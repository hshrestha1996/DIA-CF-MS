{
 "cells": [
  {
   "cell_type": "code",
   "execution_count": null,
   "id": "d46dde9a",
   "metadata": {},
   "outputs": [],
   "source": [
    "import pandas as pd\n",
    "from scipy.stats import pearsonr\n",
    "import matplotlib.pyplot as plt\n",
    "import seaborn as sns"
   ]
  },
  {
   "cell_type": "code",
   "execution_count": null,
   "id": "842482dc",
   "metadata": {},
   "outputs": [],
   "source": [
    "## Load the rep1 and rep2 dataframe\n",
    "rep1= pd.read_csv(\"../scaled_rep1.csv\")\n",
    "rep1=rep1.set_index(\"Unnamed: 0\")\n",
    "rep1.columns=rep1.columns.str.replace(\"hDIA02_fraction\",\"\")\n",
    "\n",
    "rep2= pd.read_csv(\"../scaled_rep2.csv\")\n",
    "rep2=rep2.set_index(\"Unnamed: 0\")\n",
    "rep2.columns=rep2.columns.str.replace(\"hDIA02_2nd_fraction\",\"\")"
   ]
  },
  {
   "cell_type": "code",
   "execution_count": null,
   "id": "7d0c8ebe",
   "metadata": {},
   "outputs": [],
   "source": [
    "# Extract column values corresponding to highest peak value (peak maximum) in each row\n",
    "peak_rep1 = rep1.apply(lambda row: row.index[row == 1][0] if any(row == 1) else None, axis=1)\n",
    "peak_rep1=pd.DataFrame(peak_rep1)\n",
    "peak_rep1.columns=[\"Rep1\"]\n",
    "\n",
    "peak_rep2 = rep2.apply(lambda row: row.index[row == 1][0] if any(row == 1) else None, axis=1)\n",
    "peak_rep2=pd.DataFrame(peak_rep2)\n",
    "peak_rep2.columns=[\"Rep2\"]"
   ]
  },
  {
   "cell_type": "code",
   "execution_count": null,
   "id": "926d541b",
   "metadata": {},
   "outputs": [],
   "source": [
    "peaks=peak_rep1.merge(peak_rep2, on=\"Unnamed: 0\", how= \"inner\")"
   ]
  },
  {
   "cell_type": "code",
   "execution_count": null,
   "id": "ad53beb6",
   "metadata": {},
   "outputs": [],
   "source": [
    "# Use the fraction that is most relevant\n",
    "peaksmod1=peaks.loc[(peaks[\"Rep1\"].astype(int)>40) & (peaks[\"Rep1\"].astype(int)<160)]\n",
    "peaksmod=peaksmod1.loc[(peaksmod1[\"Rep2\"].astype(int)>40) & (peaksmod1[\"Rep2\"].astype(int)<160)]"
   ]
  },
  {
   "cell_type": "code",
   "execution_count": null,
   "id": "7c5238c0",
   "metadata": {},
   "outputs": [],
   "source": [
    "import matplotlib.pyplot as plt\n",
    "from scipy.stats import pearsonr\n",
    "from scipy.stats import spearmanr"
   ]
  },
  {
   "cell_type": "code",
   "execution_count": null,
   "id": "ac4ea0e6",
   "metadata": {},
   "outputs": [],
   "source": [
    "corr, _ = pearsonr(peaksmod[\"Rep1\"].astype(int), peaksmod[\"Rep2\"].astype(int))\n",
    "corr"
   ]
  },
  {
   "cell_type": "code",
   "execution_count": null,
   "id": "d343d1bb",
   "metadata": {},
   "outputs": [],
   "source": [
    "import pandas as pd\n",
    "import seaborn as sns\n",
    "from scipy.stats import pearsonr\n",
    "import matplotlib.pyplot as plt\n",
    "\n",
    "sns.set(rc={'font.family': 'Arial'})\n",
    "sns.set_theme(style=\"white\")\n",
    "\n",
    "plt.figure(figsize=(4, 5))\n",
    "ax = sns.regplot(x=peaksmod[\"Rep1\"].astype(int), y=peaksmod[\"Rep2\"].astype(int),color='#B0B0B0', \n",
    "            scatter_kws={'s': 25},line_kws={'linestyle': '--', 'color':'black'}, ci=None)\n",
    "plt.title('Correlation of elution peaks', fontsize= 14)\n",
    "plt.xlabel('Rep1', fontsize= 12)\n",
    "plt.ylabel('Rep2', fontsize= 12)\n",
    "plt.xlim(40,160)\n",
    "plt.ylim(40,160)\n",
    "\n",
    "sns.despine()\n",
    "plt.tight_layout()\n",
    "plt.savefig(\"Elution Peak Correlation fraction40-160.png\", dpi=300)"
   ]
  },
  {
   "cell_type": "code",
   "execution_count": null,
   "id": "566396d1",
   "metadata": {},
   "outputs": [],
   "source": [
    "##Make a heatmap"
   ]
  },
  {
   "cell_type": "code",
   "execution_count": null,
   "id": "5e413ff5",
   "metadata": {},
   "outputs": [],
   "source": [
    "combine= rep1.merge(rep2, on=\"Unnamed: 0\", how=\"left\")"
   ]
  },
  {
   "cell_type": "code",
   "execution_count": null,
   "id": "72d95e82",
   "metadata": {},
   "outputs": [],
   "source": [
    "fig=sns.clustermap(combine, col_cluster=False, row_cluster=True,method=\"average\",cmap=\"Oranges\",figsize=(8,9)) #vmin=-5, vmax=5 mask=(df==0),\n",
    "fig.ax_heatmap.tick_params(right = False, bottom = False)\n",
    "fig.ax_cbar.set_position((1, .2, .03, .4))\n",
    "fig.ax_heatmap.set_xticklabels([])\n",
    "fig.ax_heatmap.set_yticklabels([])\n",
    "fig.savefig(\"scaledCF-MS_bothpresent3260proteins_min3conv3_impute0.png\", dpi= 300)"
   ]
  },
  {
   "cell_type": "code",
   "execution_count": null,
   "id": "2da488f5",
   "metadata": {},
   "outputs": [],
   "source": []
  },
  {
   "cell_type": "code",
   "execution_count": null,
   "id": "72d38072",
   "metadata": {},
   "outputs": [],
   "source": []
  }
 ],
 "metadata": {
  "kernelspec": {
   "display_name": "Python 3 (ipykernel)",
   "language": "python",
   "name": "python3"
  },
  "language_info": {
   "codemirror_mode": {
    "name": "ipython",
    "version": 3
   },
   "file_extension": ".py",
   "mimetype": "text/x-python",
   "name": "python",
   "nbconvert_exporter": "python",
   "pygments_lexer": "ipython3",
   "version": "3.8.16"
  }
 },
 "nbformat": 4,
 "nbformat_minor": 5
}
