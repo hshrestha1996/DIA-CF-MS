{
 "cells": [
  {
   "cell_type": "code",
   "execution_count": 1,
   "id": "80eb3f44",
   "metadata": {},
   "outputs": [],
   "source": [
    "import pandas as pd\n",
    "import matplotlib.pyplot as plt"
   ]
  },
  {
   "cell_type": "code",
   "execution_count": 7,
   "id": "f5b82680",
   "metadata": {},
   "outputs": [],
   "source": [
    "#Load the PPI output\n",
    "ppi= pd.read_csv(\"Both_modgauss5_Rsquare75_RF_cvfold10_trees100_netthres0.95_CORUM.csv\")"
   ]
  },
  {
   "cell_type": "code",
   "execution_count": 8,
   "id": "fdef12a2",
   "metadata": {},
   "outputs": [],
   "source": [
    "##Visualize the subset of total data to minimize computation time\n",
    "ppi99=ppi.loc[ppi[\"precision\"]>0.99]\n",
    "ppi99=ppi99[['protein_A', 'protein_B', 'score', 'label', 'precision']]\n",
    "ppi99=ppi99.loc[ppi99[\"score\"]<0.30]"
   ]
  },
  {
   "cell_type": "code",
   "execution_count": 14,
   "id": "b3547e35",
   "metadata": {},
   "outputs": [],
   "source": [
    "scaled1= pd.read_csv(\"scaled_rep1.csv\")\n",
    "scaled1=scaled1.set_index(\"ID\")"
   ]
  },
  {
   "cell_type": "code",
   "execution_count": 15,
   "id": "20bc1ea4",
   "metadata": {},
   "outputs": [
    {
     "data": {
      "text/plain": [
       "<Figure size 640x480 with 0 Axes>"
      ]
     },
     "metadata": {},
     "output_type": "display_data"
    }
   ],
   "source": [
    "import matplotlib.pyplot as plt\n",
    "\n",
    "for index, row in ppi99.iterrows():\n",
    "    # Extracting information from the 1st and 2nd columns\n",
    "    prot_A = row['protein_A']\n",
    "    prot_B = row['protein_B']\n",
    "    \n",
    "    row1 = scaled1.loc[prot_A]\n",
    "    row2 = scaled1.loc[prot_B]\n",
    "    \n",
    "    # Plotting a line plot\n",
    "    plt.plot(row1, label=prot_A)\n",
    "    plt.plot(row2, label=prot_B)\n",
    "\n",
    "    # Adding labels and legend\n",
    "    plt.xlabel('Fractions')\n",
    "    plt.xticks([])\n",
    "    plt.ylabel('Scaled_Abundance')\n",
    "    plt.legend()\n",
    "\n",
    "    # Save each figure with a unique name based on protein names\n",
    "    plt.savefig(f'{prot_A}_{prot_B}_rep1.png', dpi=50)\n",
    "    \n",
    "    # Clear the current figure to start a new one for the next iteration\n",
    "    plt.clf()"
   ]
  }
 ],
 "metadata": {
  "kernelspec": {
   "display_name": "Python 3 (ipykernel)",
   "language": "python",
   "name": "python3"
  },
  "language_info": {
   "codemirror_mode": {
    "name": "ipython",
    "version": 3
   },
   "file_extension": ".py",
   "mimetype": "text/x-python",
   "name": "python",
   "nbconvert_exporter": "python",
   "pygments_lexer": "ipython3",
   "version": "3.8.16"
  }
 },
 "nbformat": 4,
 "nbformat_minor": 5
}
